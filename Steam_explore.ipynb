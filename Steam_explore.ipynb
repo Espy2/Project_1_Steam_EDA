{
 "cells": [
  {
   "cell_type": "code",
   "execution_count": 1,
   "metadata": {},
   "outputs": [],
   "source": [
    "import matplotlib.pyplot as plt\n",
    "import pandas as pd\n",
    "import numpy as np\n",
    "import requests\n",
    "import time\n",
    "from scipy.stats import linregress\n",
    "\n",
    "\n"
   ]
  },
  {
   "cell_type": "code",
   "execution_count": 2,
   "metadata": {
    "scrolled": true
   },
   "outputs": [
    {
     "data": {
      "text/html": [
       "<div>\n",
       "<style scoped>\n",
       "    .dataframe tbody tr th:only-of-type {\n",
       "        vertical-align: middle;\n",
       "    }\n",
       "\n",
       "    .dataframe tbody tr th {\n",
       "        vertical-align: top;\n",
       "    }\n",
       "\n",
       "    .dataframe thead th {\n",
       "        text-align: right;\n",
       "    }\n",
       "</style>\n",
       "<table border=\"1\" class=\"dataframe\">\n",
       "  <thead>\n",
       "    <tr style=\"text-align: right;\">\n",
       "      <th></th>\n",
       "      <th>Name</th>\n",
       "      <th>Platform</th>\n",
       "      <th>Year_of_Release</th>\n",
       "      <th>Genre</th>\n",
       "      <th>Publisher</th>\n",
       "      <th>NA_Sales</th>\n",
       "      <th>EU_Sales</th>\n",
       "      <th>JP_Sales</th>\n",
       "      <th>Other_Sales</th>\n",
       "      <th>Global_Sales</th>\n",
       "      <th>Critic_Score</th>\n",
       "      <th>Critic_Count</th>\n",
       "      <th>User_Score</th>\n",
       "      <th>User_Count</th>\n",
       "      <th>Developer</th>\n",
       "      <th>Rating</th>\n",
       "    </tr>\n",
       "  </thead>\n",
       "  <tbody>\n",
       "    <tr>\n",
       "      <th>0</th>\n",
       "      <td>Wii Sports</td>\n",
       "      <td>Wii</td>\n",
       "      <td>2006.0</td>\n",
       "      <td>Sports</td>\n",
       "      <td>Nintendo</td>\n",
       "      <td>41.36</td>\n",
       "      <td>28.96</td>\n",
       "      <td>3.77</td>\n",
       "      <td>8.45</td>\n",
       "      <td>82.53</td>\n",
       "      <td>76.0</td>\n",
       "      <td>51.0</td>\n",
       "      <td>8</td>\n",
       "      <td>322.0</td>\n",
       "      <td>Nintendo</td>\n",
       "      <td>E</td>\n",
       "    </tr>\n",
       "    <tr>\n",
       "      <th>1</th>\n",
       "      <td>Super Mario Bros.</td>\n",
       "      <td>NES</td>\n",
       "      <td>1985.0</td>\n",
       "      <td>Platform</td>\n",
       "      <td>Nintendo</td>\n",
       "      <td>29.08</td>\n",
       "      <td>3.58</td>\n",
       "      <td>6.81</td>\n",
       "      <td>0.77</td>\n",
       "      <td>40.24</td>\n",
       "      <td>NaN</td>\n",
       "      <td>NaN</td>\n",
       "      <td>NaN</td>\n",
       "      <td>NaN</td>\n",
       "      <td>NaN</td>\n",
       "      <td>NaN</td>\n",
       "    </tr>\n",
       "    <tr>\n",
       "      <th>2</th>\n",
       "      <td>Mario Kart Wii</td>\n",
       "      <td>Wii</td>\n",
       "      <td>2008.0</td>\n",
       "      <td>Racing</td>\n",
       "      <td>Nintendo</td>\n",
       "      <td>15.68</td>\n",
       "      <td>12.76</td>\n",
       "      <td>3.79</td>\n",
       "      <td>3.29</td>\n",
       "      <td>35.52</td>\n",
       "      <td>82.0</td>\n",
       "      <td>73.0</td>\n",
       "      <td>8.3</td>\n",
       "      <td>709.0</td>\n",
       "      <td>Nintendo</td>\n",
       "      <td>E</td>\n",
       "    </tr>\n",
       "    <tr>\n",
       "      <th>3</th>\n",
       "      <td>Wii Sports Resort</td>\n",
       "      <td>Wii</td>\n",
       "      <td>2009.0</td>\n",
       "      <td>Sports</td>\n",
       "      <td>Nintendo</td>\n",
       "      <td>15.61</td>\n",
       "      <td>10.93</td>\n",
       "      <td>3.28</td>\n",
       "      <td>2.95</td>\n",
       "      <td>32.77</td>\n",
       "      <td>80.0</td>\n",
       "      <td>73.0</td>\n",
       "      <td>8</td>\n",
       "      <td>192.0</td>\n",
       "      <td>Nintendo</td>\n",
       "      <td>E</td>\n",
       "    </tr>\n",
       "    <tr>\n",
       "      <th>4</th>\n",
       "      <td>Pokemon Red/Pokemon Blue</td>\n",
       "      <td>GB</td>\n",
       "      <td>1996.0</td>\n",
       "      <td>Role-Playing</td>\n",
       "      <td>Nintendo</td>\n",
       "      <td>11.27</td>\n",
       "      <td>8.89</td>\n",
       "      <td>10.22</td>\n",
       "      <td>1.00</td>\n",
       "      <td>31.37</td>\n",
       "      <td>NaN</td>\n",
       "      <td>NaN</td>\n",
       "      <td>NaN</td>\n",
       "      <td>NaN</td>\n",
       "      <td>NaN</td>\n",
       "      <td>NaN</td>\n",
       "    </tr>\n",
       "  </tbody>\n",
       "</table>\n",
       "</div>"
      ],
      "text/plain": [
       "                       Name Platform  Year_of_Release         Genre Publisher  \\\n",
       "0                Wii Sports      Wii           2006.0        Sports  Nintendo   \n",
       "1         Super Mario Bros.      NES           1985.0      Platform  Nintendo   \n",
       "2            Mario Kart Wii      Wii           2008.0        Racing  Nintendo   \n",
       "3         Wii Sports Resort      Wii           2009.0        Sports  Nintendo   \n",
       "4  Pokemon Red/Pokemon Blue       GB           1996.0  Role-Playing  Nintendo   \n",
       "\n",
       "   NA_Sales  EU_Sales  JP_Sales  Other_Sales  Global_Sales  Critic_Score  \\\n",
       "0     41.36     28.96      3.77         8.45         82.53          76.0   \n",
       "1     29.08      3.58      6.81         0.77         40.24           NaN   \n",
       "2     15.68     12.76      3.79         3.29         35.52          82.0   \n",
       "3     15.61     10.93      3.28         2.95         32.77          80.0   \n",
       "4     11.27      8.89     10.22         1.00         31.37           NaN   \n",
       "\n",
       "   Critic_Count User_Score  User_Count Developer Rating  \n",
       "0          51.0          8       322.0  Nintendo      E  \n",
       "1           NaN        NaN         NaN       NaN    NaN  \n",
       "2          73.0        8.3       709.0  Nintendo      E  \n",
       "3          73.0          8       192.0  Nintendo      E  \n",
       "4           NaN        NaN         NaN       NaN    NaN  "
      ]
     },
     "execution_count": 2,
     "metadata": {},
     "output_type": "execute_result"
    }
   ],
   "source": [
    "from pathlib import Path\n",
    "game_sales = Path(\"Video_Games.csv\")\n",
    "game_sales_df = pd.read_csv(game_sales)\n",
    "game_sales_df.head()"
   ]
  },
  {
   "cell_type": "code",
   "execution_count": 3,
   "metadata": {},
   "outputs": [
    {
     "data": {
      "text/html": [
       "<div>\n",
       "<style scoped>\n",
       "    .dataframe tbody tr th:only-of-type {\n",
       "        vertical-align: middle;\n",
       "    }\n",
       "\n",
       "    .dataframe tbody tr th {\n",
       "        vertical-align: top;\n",
       "    }\n",
       "\n",
       "    .dataframe thead th {\n",
       "        text-align: right;\n",
       "    }\n",
       "</style>\n",
       "<table border=\"1\" class=\"dataframe\">\n",
       "  <thead>\n",
       "    <tr style=\"text-align: right;\">\n",
       "      <th></th>\n",
       "      <th>Name</th>\n",
       "      <th>Platform</th>\n",
       "      <th>Year_of_Release</th>\n",
       "      <th>Genre</th>\n",
       "      <th>Publisher</th>\n",
       "      <th>NA_Sales</th>\n",
       "      <th>EU_Sales</th>\n",
       "      <th>JP_Sales</th>\n",
       "      <th>Other_Sales</th>\n",
       "      <th>Global_Sales</th>\n",
       "      <th>Critic_Score</th>\n",
       "      <th>Critic_Count</th>\n",
       "      <th>User_Score</th>\n",
       "      <th>User_Count</th>\n",
       "      <th>Developer</th>\n",
       "      <th>Rating</th>\n",
       "    </tr>\n",
       "  </thead>\n",
       "  <tbody>\n",
       "    <tr>\n",
       "      <th>0</th>\n",
       "      <td>Wii Sports</td>\n",
       "      <td>Wii</td>\n",
       "      <td>2006.0</td>\n",
       "      <td>Sports</td>\n",
       "      <td>Nintendo</td>\n",
       "      <td>41.36</td>\n",
       "      <td>28.96</td>\n",
       "      <td>3.77</td>\n",
       "      <td>8.45</td>\n",
       "      <td>82.53</td>\n",
       "      <td>76.0</td>\n",
       "      <td>51.0</td>\n",
       "      <td>8</td>\n",
       "      <td>322.0</td>\n",
       "      <td>Nintendo</td>\n",
       "      <td>E</td>\n",
       "    </tr>\n",
       "    <tr>\n",
       "      <th>2</th>\n",
       "      <td>Mario Kart Wii</td>\n",
       "      <td>Wii</td>\n",
       "      <td>2008.0</td>\n",
       "      <td>Racing</td>\n",
       "      <td>Nintendo</td>\n",
       "      <td>15.68</td>\n",
       "      <td>12.76</td>\n",
       "      <td>3.79</td>\n",
       "      <td>3.29</td>\n",
       "      <td>35.52</td>\n",
       "      <td>82.0</td>\n",
       "      <td>73.0</td>\n",
       "      <td>8.3</td>\n",
       "      <td>709.0</td>\n",
       "      <td>Nintendo</td>\n",
       "      <td>E</td>\n",
       "    </tr>\n",
       "    <tr>\n",
       "      <th>3</th>\n",
       "      <td>Wii Sports Resort</td>\n",
       "      <td>Wii</td>\n",
       "      <td>2009.0</td>\n",
       "      <td>Sports</td>\n",
       "      <td>Nintendo</td>\n",
       "      <td>15.61</td>\n",
       "      <td>10.93</td>\n",
       "      <td>3.28</td>\n",
       "      <td>2.95</td>\n",
       "      <td>32.77</td>\n",
       "      <td>80.0</td>\n",
       "      <td>73.0</td>\n",
       "      <td>8</td>\n",
       "      <td>192.0</td>\n",
       "      <td>Nintendo</td>\n",
       "      <td>E</td>\n",
       "    </tr>\n",
       "    <tr>\n",
       "      <th>6</th>\n",
       "      <td>New Super Mario Bros.</td>\n",
       "      <td>DS</td>\n",
       "      <td>2006.0</td>\n",
       "      <td>Platform</td>\n",
       "      <td>Nintendo</td>\n",
       "      <td>11.28</td>\n",
       "      <td>9.14</td>\n",
       "      <td>6.50</td>\n",
       "      <td>2.88</td>\n",
       "      <td>29.80</td>\n",
       "      <td>89.0</td>\n",
       "      <td>65.0</td>\n",
       "      <td>8.5</td>\n",
       "      <td>431.0</td>\n",
       "      <td>Nintendo</td>\n",
       "      <td>E</td>\n",
       "    </tr>\n",
       "    <tr>\n",
       "      <th>7</th>\n",
       "      <td>Wii Play</td>\n",
       "      <td>Wii</td>\n",
       "      <td>2006.0</td>\n",
       "      <td>Misc</td>\n",
       "      <td>Nintendo</td>\n",
       "      <td>13.96</td>\n",
       "      <td>9.18</td>\n",
       "      <td>2.93</td>\n",
       "      <td>2.84</td>\n",
       "      <td>28.92</td>\n",
       "      <td>58.0</td>\n",
       "      <td>41.0</td>\n",
       "      <td>6.6</td>\n",
       "      <td>129.0</td>\n",
       "      <td>Nintendo</td>\n",
       "      <td>E</td>\n",
       "    </tr>\n",
       "    <tr>\n",
       "      <th>...</th>\n",
       "      <td>...</td>\n",
       "      <td>...</td>\n",
       "      <td>...</td>\n",
       "      <td>...</td>\n",
       "      <td>...</td>\n",
       "      <td>...</td>\n",
       "      <td>...</td>\n",
       "      <td>...</td>\n",
       "      <td>...</td>\n",
       "      <td>...</td>\n",
       "      <td>...</td>\n",
       "      <td>...</td>\n",
       "      <td>...</td>\n",
       "      <td>...</td>\n",
       "      <td>...</td>\n",
       "      <td>...</td>\n",
       "    </tr>\n",
       "    <tr>\n",
       "      <th>16667</th>\n",
       "      <td>E.T. The Extra-Terrestrial</td>\n",
       "      <td>GBA</td>\n",
       "      <td>2001.0</td>\n",
       "      <td>Action</td>\n",
       "      <td>NewKidCo</td>\n",
       "      <td>0.01</td>\n",
       "      <td>0.00</td>\n",
       "      <td>0.00</td>\n",
       "      <td>0.00</td>\n",
       "      <td>0.01</td>\n",
       "      <td>46.0</td>\n",
       "      <td>4.0</td>\n",
       "      <td>2.4</td>\n",
       "      <td>21.0</td>\n",
       "      <td>Fluid Studios</td>\n",
       "      <td>E</td>\n",
       "    </tr>\n",
       "    <tr>\n",
       "      <th>16677</th>\n",
       "      <td>Mortal Kombat: Deadly Alliance</td>\n",
       "      <td>GBA</td>\n",
       "      <td>2002.0</td>\n",
       "      <td>Fighting</td>\n",
       "      <td>Midway Games</td>\n",
       "      <td>0.01</td>\n",
       "      <td>0.00</td>\n",
       "      <td>0.00</td>\n",
       "      <td>0.00</td>\n",
       "      <td>0.01</td>\n",
       "      <td>81.0</td>\n",
       "      <td>12.0</td>\n",
       "      <td>8.8</td>\n",
       "      <td>9.0</td>\n",
       "      <td>Criterion Games</td>\n",
       "      <td>M</td>\n",
       "    </tr>\n",
       "    <tr>\n",
       "      <th>16696</th>\n",
       "      <td>Metal Gear Solid V: Ground Zeroes</td>\n",
       "      <td>PC</td>\n",
       "      <td>2014.0</td>\n",
       "      <td>Action</td>\n",
       "      <td>Konami Digital Entertainment</td>\n",
       "      <td>0.00</td>\n",
       "      <td>0.01</td>\n",
       "      <td>0.00</td>\n",
       "      <td>0.00</td>\n",
       "      <td>0.01</td>\n",
       "      <td>80.0</td>\n",
       "      <td>20.0</td>\n",
       "      <td>7.6</td>\n",
       "      <td>412.0</td>\n",
       "      <td>Kojima Productions</td>\n",
       "      <td>M</td>\n",
       "    </tr>\n",
       "    <tr>\n",
       "      <th>16700</th>\n",
       "      <td>Breach</td>\n",
       "      <td>PC</td>\n",
       "      <td>2011.0</td>\n",
       "      <td>Shooter</td>\n",
       "      <td>Destineer</td>\n",
       "      <td>0.01</td>\n",
       "      <td>0.00</td>\n",
       "      <td>0.00</td>\n",
       "      <td>0.00</td>\n",
       "      <td>0.01</td>\n",
       "      <td>61.0</td>\n",
       "      <td>12.0</td>\n",
       "      <td>5.8</td>\n",
       "      <td>43.0</td>\n",
       "      <td>Atomic Games</td>\n",
       "      <td>T</td>\n",
       "    </tr>\n",
       "    <tr>\n",
       "      <th>16706</th>\n",
       "      <td>STORM: Frontline Nation</td>\n",
       "      <td>PC</td>\n",
       "      <td>2011.0</td>\n",
       "      <td>Strategy</td>\n",
       "      <td>Unknown</td>\n",
       "      <td>0.00</td>\n",
       "      <td>0.01</td>\n",
       "      <td>0.00</td>\n",
       "      <td>0.00</td>\n",
       "      <td>0.01</td>\n",
       "      <td>60.0</td>\n",
       "      <td>12.0</td>\n",
       "      <td>7.2</td>\n",
       "      <td>13.0</td>\n",
       "      <td>SimBin</td>\n",
       "      <td>E10+</td>\n",
       "    </tr>\n",
       "  </tbody>\n",
       "</table>\n",
       "<p>6825 rows × 16 columns</p>\n",
       "</div>"
      ],
      "text/plain": [
       "                                    Name Platform  Year_of_Release     Genre  \\\n",
       "0                             Wii Sports      Wii           2006.0    Sports   \n",
       "2                         Mario Kart Wii      Wii           2008.0    Racing   \n",
       "3                      Wii Sports Resort      Wii           2009.0    Sports   \n",
       "6                  New Super Mario Bros.       DS           2006.0  Platform   \n",
       "7                               Wii Play      Wii           2006.0      Misc   \n",
       "...                                  ...      ...              ...       ...   \n",
       "16667         E.T. The Extra-Terrestrial      GBA           2001.0    Action   \n",
       "16677     Mortal Kombat: Deadly Alliance      GBA           2002.0  Fighting   \n",
       "16696  Metal Gear Solid V: Ground Zeroes       PC           2014.0    Action   \n",
       "16700                             Breach       PC           2011.0   Shooter   \n",
       "16706            STORM: Frontline Nation       PC           2011.0  Strategy   \n",
       "\n",
       "                          Publisher  NA_Sales  EU_Sales  JP_Sales  \\\n",
       "0                          Nintendo     41.36     28.96      3.77   \n",
       "2                          Nintendo     15.68     12.76      3.79   \n",
       "3                          Nintendo     15.61     10.93      3.28   \n",
       "6                          Nintendo     11.28      9.14      6.50   \n",
       "7                          Nintendo     13.96      9.18      2.93   \n",
       "...                             ...       ...       ...       ...   \n",
       "16667                      NewKidCo      0.01      0.00      0.00   \n",
       "16677                  Midway Games      0.01      0.00      0.00   \n",
       "16696  Konami Digital Entertainment      0.00      0.01      0.00   \n",
       "16700                     Destineer      0.01      0.00      0.00   \n",
       "16706                       Unknown      0.00      0.01      0.00   \n",
       "\n",
       "       Other_Sales  Global_Sales  Critic_Score  Critic_Count User_Score  \\\n",
       "0             8.45         82.53          76.0          51.0          8   \n",
       "2             3.29         35.52          82.0          73.0        8.3   \n",
       "3             2.95         32.77          80.0          73.0          8   \n",
       "6             2.88         29.80          89.0          65.0        8.5   \n",
       "7             2.84         28.92          58.0          41.0        6.6   \n",
       "...            ...           ...           ...           ...        ...   \n",
       "16667         0.00          0.01          46.0           4.0        2.4   \n",
       "16677         0.00          0.01          81.0          12.0        8.8   \n",
       "16696         0.00          0.01          80.0          20.0        7.6   \n",
       "16700         0.00          0.01          61.0          12.0        5.8   \n",
       "16706         0.00          0.01          60.0          12.0        7.2   \n",
       "\n",
       "       User_Count           Developer Rating  \n",
       "0           322.0            Nintendo      E  \n",
       "2           709.0            Nintendo      E  \n",
       "3           192.0            Nintendo      E  \n",
       "6           431.0            Nintendo      E  \n",
       "7           129.0            Nintendo      E  \n",
       "...           ...                 ...    ...  \n",
       "16667        21.0       Fluid Studios      E  \n",
       "16677         9.0     Criterion Games      M  \n",
       "16696       412.0  Kojima Productions      M  \n",
       "16700        43.0        Atomic Games      T  \n",
       "16706        13.0              SimBin   E10+  \n",
       "\n",
       "[6825 rows x 16 columns]"
      ]
     },
     "execution_count": 3,
     "metadata": {},
     "output_type": "execute_result"
    }
   ],
   "source": [
    "# Remove all rows with Nan values\n",
    "cleaned_game_sales_df = game_sales_df.dropna()\n",
    "cleaned_game_sales_df"
   ]
  },
  {
   "cell_type": "code",
   "execution_count": 4,
   "metadata": {},
   "outputs": [
    {
     "data": {
      "text/plain": [
       "17"
      ]
     },
     "execution_count": 4,
     "metadata": {},
     "output_type": "execute_result"
    }
   ],
   "source": [
    "# Calculate total number of platforms\n",
    "platform_count = cleaned_game_sales_df['Platform'].nunique()\n",
    "platform_count"
   ]
  },
  {
   "cell_type": "code",
   "execution_count": 5,
   "metadata": {},
   "outputs": [
    {
     "data": {
      "text/plain": [
       "262"
      ]
     },
     "execution_count": 5,
     "metadata": {},
     "output_type": "execute_result"
    }
   ],
   "source": [
    "# Calculate total number of publishers\n",
    "publisher_count = cleaned_game_sales_df['Publisher'].nunique()\n",
    "publisher_count"
   ]
  },
  {
   "cell_type": "code",
   "execution_count": 6,
   "metadata": {},
   "outputs": [
    {
     "data": {
      "text/plain": [
       "1289"
      ]
     },
     "execution_count": 6,
     "metadata": {},
     "output_type": "execute_result"
    }
   ],
   "source": [
    "# Developer Count\n",
    "developer_count = cleaned_game_sales_df['Developer'].nunique()\n",
    "developer_count"
   ]
  },
  {
   "cell_type": "code",
   "execution_count": 7,
   "metadata": {},
   "outputs": [
    {
     "data": {
      "text/plain": [
       "4377"
      ]
     },
     "execution_count": 7,
     "metadata": {},
     "output_type": "execute_result"
    }
   ],
   "source": [
    "# Total number of games \n",
    "game_count = cleaned_game_sales_df['Name'].nunique()\n",
    "game_count"
   ]
  },
  {
   "cell_type": "code",
   "execution_count": 8,
   "metadata": {},
   "outputs": [
    {
     "name": "stdout",
     "output_type": "stream",
     "text": [
      "\n",
      "Total number of NA sales: 2692.3500000001272\n",
      "\n",
      "Total number of EU sales: 1611.309999999911\n",
      "\n",
      "Total number of JP sales: 437.8799999999932\n",
      "\n",
      "Total number of other sales: 564.2699999999522\n",
      "\n",
      "Total sales: 5305.809999999983\n",
      "\n"
     ]
    }
   ],
   "source": [
    "# Calculate Total sales for each region\n",
    "na_sales= sum(cleaned_game_sales_df['NA_Sales'])\n",
    "eu_sales= sum(cleaned_game_sales_df['EU_Sales'])\n",
    "jp_sales= sum(cleaned_game_sales_df['JP_Sales'])\n",
    "other_sales = sum(cleaned_game_sales_df['Other_Sales'])\n",
    "total_sales= na_sales + eu_sales + jp_sales + other_sales\n",
    "\n",
    "print(f'''\n",
    "Total number of NA sales: {na_sales}\n",
    "\n",
    "Total number of EU sales: {eu_sales}\n",
    "\n",
    "Total number of JP sales: {jp_sales}\n",
    "\n",
    "Total number of other sales: {other_sales}\n",
    "\n",
    "Total sales: {total_sales}\n",
    "''')"
   ]
  },
  {
   "cell_type": "code",
   "execution_count": 9,
   "metadata": {},
   "outputs": [
    {
     "data": {
      "text/plain": [
       "70.27208791208791"
      ]
     },
     "execution_count": 9,
     "metadata": {},
     "output_type": "execute_result"
    }
   ],
   "source": [
    "# average critic score\n",
    "avg_critic_score = cleaned_game_sales_df['Critic_Score'].mean()\n",
    "avg_critic_score"
   ]
  },
  {
   "cell_type": "code",
   "execution_count": 10,
   "metadata": {},
   "outputs": [
    {
     "data": {
      "text/plain": [
       "7.185626373626373"
      ]
     },
     "execution_count": 10,
     "metadata": {},
     "output_type": "execute_result"
    }
   ],
   "source": [
    "avg_user_score= cleaned_game_sales_df['User_Score'].astype('float64').mean()\n",
    "avg_user_score"
   ]
  },
  {
   "cell_type": "code",
   "execution_count": 14,
   "metadata": {},
   "outputs": [
    {
     "data": {
      "text/plain": [
       "43.9798949051862"
      ]
     },
     "execution_count": 14,
     "metadata": {},
     "output_type": "execute_result"
    }
   ],
   "source": [
    "# Calculate percentage of games with higher than 80% critic score\n",
    "positive_critic_review_count = cleaned_game_sales_df[(cleaned_game_sales_df['Critic_Score'] >= 80)].count()[\"Name\"]\n",
    "positive_critic_game_percentage  = positive_critic_review_count / float(game_count) * 100\n",
    "positive_critic_game_percentage"
   ]
  },
  {
   "cell_type": "code",
   "execution_count": 15,
   "metadata": {},
   "outputs": [
    {
     "data": {
      "text/plain": [
       "54.466529586474756"
      ]
     },
     "execution_count": 15,
     "metadata": {},
     "output_type": "execute_result"
    }
   ],
   "source": [
    "# Calculate percentage of games with higher than 8 User score\n",
    "positive_user_review_count = cleaned_game_sales_df[(cleaned_game_sales_df['User_Score'].astype('float64') >= 8)].count()[\"Name\"]\n",
    "positive_user_game_percentage  = positive_user_review_count / float(game_count) * 100\n",
    "positive_user_game_percentage"
   ]
  },
  {
   "cell_type": "code",
   "execution_count": 16,
   "metadata": {},
   "outputs": [
    {
     "data": {
      "text/html": [
       "<div>\n",
       "<style scoped>\n",
       "    .dataframe tbody tr th:only-of-type {\n",
       "        vertical-align: middle;\n",
       "    }\n",
       "\n",
       "    .dataframe tbody tr th {\n",
       "        vertical-align: top;\n",
       "    }\n",
       "\n",
       "    .dataframe thead th {\n",
       "        text-align: right;\n",
       "    }\n",
       "</style>\n",
       "<table border=\"1\" class=\"dataframe\">\n",
       "  <thead>\n",
       "    <tr style=\"text-align: right;\">\n",
       "      <th></th>\n",
       "      <th>Total Number of Platforms</th>\n",
       "      <th>Total Number of Publishers</th>\n",
       "      <th>Total Number of Games</th>\n",
       "      <th>Total Sale From NA</th>\n",
       "      <th>Total Sales From EU</th>\n",
       "      <th>Total Number of Sales From JP</th>\n",
       "      <th>Total Number of Sales from Other regions</th>\n",
       "      <th>Total Sales</th>\n",
       "      <th>Over 80% Critic Score</th>\n",
       "      <th>Over 80% User Score</th>\n",
       "    </tr>\n",
       "  </thead>\n",
       "  <tbody>\n",
       "    <tr>\n",
       "      <th>0</th>\n",
       "      <td>17</td>\n",
       "      <td>262</td>\n",
       "      <td>4377</td>\n",
       "      <td>2692.35</td>\n",
       "      <td>1611.31</td>\n",
       "      <td>437.88</td>\n",
       "      <td>564.27</td>\n",
       "      <td>5305.81</td>\n",
       "      <td>43.979895</td>\n",
       "      <td>54.46653</td>\n",
       "    </tr>\n",
       "  </tbody>\n",
       "</table>\n",
       "</div>"
      ],
      "text/plain": [
       "   Total Number of Platforms  Total Number of Publishers  \\\n",
       "0                         17                         262   \n",
       "\n",
       "   Total Number of Games  Total Sale From NA  Total Sales From EU  \\\n",
       "0                   4377             2692.35              1611.31   \n",
       "\n",
       "   Total Number of Sales From JP  Total Number of Sales from Other regions  \\\n",
       "0                         437.88                                    564.27   \n",
       "\n",
       "   Total Sales  Over 80% Critic Score  Over 80% User Score  \n",
       "0      5305.81              43.979895             54.46653  "
      ]
     },
     "execution_count": 16,
     "metadata": {},
     "output_type": "execute_result"
    }
   ],
   "source": [
    "game_sales_summary = pd.DataFrame([\n",
    "    {'Total Number of Platforms': platform_count, \n",
    "     'Total Number of Publishers': publisher_count, \n",
    "     'Total Number of Games': game_count, \n",
    "     'Total Sale From NA': na_sales, \n",
    "     'Total Sales From EU': eu_sales, \n",
    "     'Total Number of Sales From JP': jp_sales, \n",
    "     'Total Number of Sales from Other regions': other_sales, \n",
    "     'Total Sales': total_sales, \n",
    "     'Over 80% Critic Score' : positive_critic_game_percentage, \n",
    "     'Over 80% User Score': positive_user_game_percentage}\n",
    "])\n",
    "game_sales_summary"
   ]
  },
  {
   "cell_type": "code",
   "execution_count": 17,
   "metadata": {
    "scrolled": true
   },
   "outputs": [
    {
     "data": {
      "text/plain": [
       "Rating\n",
       "AO         1\n",
       "E       2082\n",
       "E10+     930\n",
       "K-A        1\n",
       "M       1433\n",
       "RP         1\n",
       "T       2377\n",
       "Name: Name, dtype: int64"
      ]
     },
     "execution_count": 17,
     "metadata": {},
     "output_type": "execute_result"
    }
   ],
   "source": [
    "# Games per Rating\n",
    "per_rating_counts = cleaned_game_sales_df.groupby('Rating')['Name'].count()\n",
    "per_rating_counts"
   ]
  },
  {
   "cell_type": "code",
   "execution_count": 18,
   "metadata": {},
   "outputs": [
    {
     "data": {
      "text/plain": [
       "Platform\n",
       "3DS      155\n",
       "DC        14\n",
       "DS       464\n",
       "GBA      237\n",
       "GC       348\n",
       "PC       651\n",
       "PS       150\n",
       "PS2     1140\n",
       "PS3      769\n",
       "PS4      239\n",
       "PSP      390\n",
       "PSV      118\n",
       "Wii      479\n",
       "WiiU      89\n",
       "X360     858\n",
       "XB       565\n",
       "XOne     159\n",
       "Name: Name, dtype: int64"
      ]
     },
     "execution_count": 18,
     "metadata": {},
     "output_type": "execute_result"
    }
   ],
   "source": [
    "# Total game count per platform\n",
    "per_platform_counts = cleaned_game_sales_df.groupby('Platform')['Name'].count()\n",
    "per_platform_counts"
   ]
  },
  {
   "cell_type": "code",
   "execution_count": 19,
   "metadata": {},
   "outputs": [
    {
     "data": {
      "text/plain": [
       "Genre\n",
       "Action          1630\n",
       "Adventure        248\n",
       "Fighting         378\n",
       "Misc             384\n",
       "Platform         403\n",
       "Puzzle           118\n",
       "Racing           581\n",
       "Role-Playing     712\n",
       "Shooter          864\n",
       "Simulation       297\n",
       "Sports           943\n",
       "Strategy         267\n",
       "Name: Name, dtype: int64"
      ]
     },
     "execution_count": 19,
     "metadata": {},
     "output_type": "execute_result"
    }
   ],
   "source": [
    "# Total game count per genre \n",
    "per_genre_counts = cleaned_game_sales_df.groupby('Genre')['Name'].count()\n",
    "per_genre_counts"
   ]
  },
  {
   "cell_type": "code",
   "execution_count": 20,
   "metadata": {},
   "outputs": [
    {
     "data": {
      "text/html": [
       "<div>\n",
       "<style scoped>\n",
       "    .dataframe tbody tr th:only-of-type {\n",
       "        vertical-align: middle;\n",
       "    }\n",
       "\n",
       "    .dataframe tbody tr th {\n",
       "        vertical-align: top;\n",
       "    }\n",
       "\n",
       "    .dataframe thead th {\n",
       "        text-align: right;\n",
       "    }\n",
       "</style>\n",
       "<table border=\"1\" class=\"dataframe\">\n",
       "  <thead>\n",
       "    <tr style=\"text-align: right;\">\n",
       "      <th></th>\n",
       "      <th>Publisher</th>\n",
       "      <th>Name</th>\n",
       "      <th>NA_Sales</th>\n",
       "      <th>EU_Sales</th>\n",
       "      <th>JP_Sales</th>\n",
       "      <th>Other_Sales</th>\n",
       "    </tr>\n",
       "  </thead>\n",
       "  <tbody>\n",
       "    <tr>\n",
       "      <th>0</th>\n",
       "      <td>Nintendo</td>\n",
       "      <td>Wii Sports</td>\n",
       "      <td>41.36</td>\n",
       "      <td>28.96</td>\n",
       "      <td>3.77</td>\n",
       "      <td>8.45</td>\n",
       "    </tr>\n",
       "    <tr>\n",
       "      <th>2</th>\n",
       "      <td>Nintendo</td>\n",
       "      <td>Mario Kart Wii</td>\n",
       "      <td>15.68</td>\n",
       "      <td>12.76</td>\n",
       "      <td>3.79</td>\n",
       "      <td>3.29</td>\n",
       "    </tr>\n",
       "    <tr>\n",
       "      <th>3</th>\n",
       "      <td>Nintendo</td>\n",
       "      <td>Wii Sports Resort</td>\n",
       "      <td>15.61</td>\n",
       "      <td>10.93</td>\n",
       "      <td>3.28</td>\n",
       "      <td>2.95</td>\n",
       "    </tr>\n",
       "    <tr>\n",
       "      <th>6</th>\n",
       "      <td>Nintendo</td>\n",
       "      <td>New Super Mario Bros.</td>\n",
       "      <td>11.28</td>\n",
       "      <td>9.14</td>\n",
       "      <td>6.50</td>\n",
       "      <td>2.88</td>\n",
       "    </tr>\n",
       "    <tr>\n",
       "      <th>7</th>\n",
       "      <td>Nintendo</td>\n",
       "      <td>Wii Play</td>\n",
       "      <td>13.96</td>\n",
       "      <td>9.18</td>\n",
       "      <td>2.93</td>\n",
       "      <td>2.84</td>\n",
       "    </tr>\n",
       "    <tr>\n",
       "      <th>...</th>\n",
       "      <td>...</td>\n",
       "      <td>...</td>\n",
       "      <td>...</td>\n",
       "      <td>...</td>\n",
       "      <td>...</td>\n",
       "      <td>...</td>\n",
       "    </tr>\n",
       "    <tr>\n",
       "      <th>16667</th>\n",
       "      <td>NewKidCo</td>\n",
       "      <td>E.T. The Extra-Terrestrial</td>\n",
       "      <td>0.01</td>\n",
       "      <td>0.00</td>\n",
       "      <td>0.00</td>\n",
       "      <td>0.00</td>\n",
       "    </tr>\n",
       "    <tr>\n",
       "      <th>16677</th>\n",
       "      <td>Midway Games</td>\n",
       "      <td>Mortal Kombat: Deadly Alliance</td>\n",
       "      <td>0.01</td>\n",
       "      <td>0.00</td>\n",
       "      <td>0.00</td>\n",
       "      <td>0.00</td>\n",
       "    </tr>\n",
       "    <tr>\n",
       "      <th>16696</th>\n",
       "      <td>Konami Digital Entertainment</td>\n",
       "      <td>Metal Gear Solid V: Ground Zeroes</td>\n",
       "      <td>0.00</td>\n",
       "      <td>0.01</td>\n",
       "      <td>0.00</td>\n",
       "      <td>0.00</td>\n",
       "    </tr>\n",
       "    <tr>\n",
       "      <th>16700</th>\n",
       "      <td>Destineer</td>\n",
       "      <td>Breach</td>\n",
       "      <td>0.01</td>\n",
       "      <td>0.00</td>\n",
       "      <td>0.00</td>\n",
       "      <td>0.00</td>\n",
       "    </tr>\n",
       "    <tr>\n",
       "      <th>16706</th>\n",
       "      <td>Unknown</td>\n",
       "      <td>STORM: Frontline Nation</td>\n",
       "      <td>0.00</td>\n",
       "      <td>0.01</td>\n",
       "      <td>0.00</td>\n",
       "      <td>0.00</td>\n",
       "    </tr>\n",
       "  </tbody>\n",
       "</table>\n",
       "<p>6825 rows × 6 columns</p>\n",
       "</div>"
      ],
      "text/plain": [
       "                          Publisher                               Name  \\\n",
       "0                          Nintendo                         Wii Sports   \n",
       "2                          Nintendo                     Mario Kart Wii   \n",
       "3                          Nintendo                  Wii Sports Resort   \n",
       "6                          Nintendo              New Super Mario Bros.   \n",
       "7                          Nintendo                           Wii Play   \n",
       "...                             ...                                ...   \n",
       "16667                      NewKidCo         E.T. The Extra-Terrestrial   \n",
       "16677                  Midway Games     Mortal Kombat: Deadly Alliance   \n",
       "16696  Konami Digital Entertainment  Metal Gear Solid V: Ground Zeroes   \n",
       "16700                     Destineer                             Breach   \n",
       "16706                       Unknown            STORM: Frontline Nation   \n",
       "\n",
       "       NA_Sales  EU_Sales  JP_Sales  Other_Sales  \n",
       "0         41.36     28.96      3.77         8.45  \n",
       "2         15.68     12.76      3.79         3.29  \n",
       "3         15.61     10.93      3.28         2.95  \n",
       "6         11.28      9.14      6.50         2.88  \n",
       "7         13.96      9.18      2.93         2.84  \n",
       "...         ...       ...       ...          ...  \n",
       "16667      0.01      0.00      0.00         0.00  \n",
       "16677      0.01      0.00      0.00         0.00  \n",
       "16696      0.00      0.01      0.00         0.00  \n",
       "16700      0.01      0.00      0.00         0.00  \n",
       "16706      0.00      0.01      0.00         0.00  \n",
       "\n",
       "[6825 rows x 6 columns]"
      ]
     },
     "execution_count": 20,
     "metadata": {},
     "output_type": "execute_result"
    }
   ],
   "source": [
    "publisher_sales_df = cleaned_game_sales_df[['Publisher', 'Name', 'NA_Sales', 'EU_Sales', 'JP_Sales', 'Other_Sales']]\n",
    "publisher_sales_df"
   ]
  },
  {
   "cell_type": "code",
   "execution_count": 21,
   "metadata": {},
   "outputs": [
    {
     "name": "stderr",
     "output_type": "stream",
     "text": [
      "C:\\Users\\Espy\\AppData\\Local\\Temp\\ipykernel_28056\\2401239934.py:3: FutureWarning: The default value of numeric_only in DataFrameGroupBy.sum is deprecated. In a future version, numeric_only will default to False. Either specify numeric_only or select only columns which should be valid for the function.\n",
      "  publisher_sales_df = publisher_sales_df.groupby('Publisher').sum()\n"
     ]
    },
    {
     "data": {
      "text/html": [
       "<div>\n",
       "<style scoped>\n",
       "    .dataframe tbody tr th:only-of-type {\n",
       "        vertical-align: middle;\n",
       "    }\n",
       "\n",
       "    .dataframe tbody tr th {\n",
       "        vertical-align: top;\n",
       "    }\n",
       "\n",
       "    .dataframe thead th {\n",
       "        text-align: right;\n",
       "    }\n",
       "</style>\n",
       "<table border=\"1\" class=\"dataframe\">\n",
       "  <thead>\n",
       "    <tr style=\"text-align: right;\">\n",
       "      <th></th>\n",
       "      <th>NA_Sales</th>\n",
       "      <th>EU_Sales</th>\n",
       "      <th>JP_Sales</th>\n",
       "      <th>Other_Sales</th>\n",
       "    </tr>\n",
       "    <tr>\n",
       "      <th>Publisher</th>\n",
       "      <th></th>\n",
       "      <th></th>\n",
       "      <th></th>\n",
       "      <th></th>\n",
       "    </tr>\n",
       "  </thead>\n",
       "  <tbody>\n",
       "    <tr>\n",
       "      <th>10TACLE Studios</th>\n",
       "      <td>0.01</td>\n",
       "      <td>0.01</td>\n",
       "      <td>0.00</td>\n",
       "      <td>0.00</td>\n",
       "    </tr>\n",
       "    <tr>\n",
       "      <th>1C Company</th>\n",
       "      <td>0.01</td>\n",
       "      <td>0.04</td>\n",
       "      <td>0.00</td>\n",
       "      <td>0.01</td>\n",
       "    </tr>\n",
       "    <tr>\n",
       "      <th>2D Boy</th>\n",
       "      <td>0.00</td>\n",
       "      <td>0.03</td>\n",
       "      <td>0.00</td>\n",
       "      <td>0.01</td>\n",
       "    </tr>\n",
       "    <tr>\n",
       "      <th>3DO</th>\n",
       "      <td>1.30</td>\n",
       "      <td>0.94</td>\n",
       "      <td>0.00</td>\n",
       "      <td>0.29</td>\n",
       "    </tr>\n",
       "    <tr>\n",
       "      <th>505 Games</th>\n",
       "      <td>16.59</td>\n",
       "      <td>10.83</td>\n",
       "      <td>0.92</td>\n",
       "      <td>3.28</td>\n",
       "    </tr>\n",
       "    <tr>\n",
       "      <th>...</th>\n",
       "      <td>...</td>\n",
       "      <td>...</td>\n",
       "      <td>...</td>\n",
       "      <td>...</td>\n",
       "    </tr>\n",
       "    <tr>\n",
       "      <th>Zoo Games</th>\n",
       "      <td>1.25</td>\n",
       "      <td>0.00</td>\n",
       "      <td>0.00</td>\n",
       "      <td>0.09</td>\n",
       "    </tr>\n",
       "    <tr>\n",
       "      <th>Zushi Games</th>\n",
       "      <td>0.18</td>\n",
       "      <td>0.01</td>\n",
       "      <td>0.00</td>\n",
       "      <td>0.01</td>\n",
       "    </tr>\n",
       "    <tr>\n",
       "      <th>bitComposer Games</th>\n",
       "      <td>0.00</td>\n",
       "      <td>0.05</td>\n",
       "      <td>0.00</td>\n",
       "      <td>0.02</td>\n",
       "    </tr>\n",
       "    <tr>\n",
       "      <th>id Software</th>\n",
       "      <td>0.02</td>\n",
       "      <td>0.00</td>\n",
       "      <td>0.00</td>\n",
       "      <td>0.00</td>\n",
       "    </tr>\n",
       "    <tr>\n",
       "      <th>inXile Entertainment</th>\n",
       "      <td>0.03</td>\n",
       "      <td>0.06</td>\n",
       "      <td>0.00</td>\n",
       "      <td>0.01</td>\n",
       "    </tr>\n",
       "  </tbody>\n",
       "</table>\n",
       "<p>262 rows × 4 columns</p>\n",
       "</div>"
      ],
      "text/plain": [
       "                      NA_Sales  EU_Sales  JP_Sales  Other_Sales\n",
       "Publisher                                                      \n",
       "10TACLE Studios           0.01      0.01      0.00         0.00\n",
       "1C Company                0.01      0.04      0.00         0.01\n",
       "2D Boy                    0.00      0.03      0.00         0.01\n",
       "3DO                       1.30      0.94      0.00         0.29\n",
       "505 Games                16.59     10.83      0.92         3.28\n",
       "...                        ...       ...       ...          ...\n",
       "Zoo Games                 1.25      0.00      0.00         0.09\n",
       "Zushi Games               0.18      0.01      0.00         0.01\n",
       "bitComposer Games         0.00      0.05      0.00         0.02\n",
       "id Software               0.02      0.00      0.00         0.00\n",
       "inXile Entertainment      0.03      0.06      0.00         0.01\n",
       "\n",
       "[262 rows x 4 columns]"
      ]
     },
     "execution_count": 21,
     "metadata": {},
     "output_type": "execute_result"
    }
   ],
   "source": [
    "# Total sales per publisher per region\n",
    "\n",
    "publisher_sales_df = publisher_sales_df.groupby('Publisher').sum()\n",
    "publisher_sales_df\n"
   ]
  },
  {
   "cell_type": "code",
   "execution_count": null,
   "metadata": {},
   "outputs": [],
   "source": [
    "# compare sales to critic_scores platforms "
   ]
  },
  {
   "cell_type": "code",
   "execution_count": 22,
   "metadata": {},
   "outputs": [],
   "source": [
    "# filter df to onl;y include m rated games\n",
    "m_rated_df = cleaned_game_sales_df[cleaned_game_sales_df['Rating'] == 'M']\n",
    "\n",
    "# Calculate average "
   ]
  },
  {
   "cell_type": "code",
   "execution_count": 24,
   "metadata": {},
   "outputs": [
    {
     "data": {
      "text/plain": [
       "Name\n",
       "187: Ride or Die                      51.500000\n",
       "24: The Game                          62.000000\n",
       "25 to Life                            40.000000\n",
       "300: March to Glory                   55.000000\n",
       "50 Cent: Blood on the Sand            71.500000\n",
       "                                        ...    \n",
       "Zone of the Enders                    78.000000\n",
       "Zone of the Enders HD Collection      74.000000\n",
       "Zone of the Enders: The 2nd Runner    82.000000\n",
       "[Prototype 2]                         76.333333\n",
       "[Prototype]                           78.500000\n",
       "Name: Critic_Score, Length: 824, dtype: float64"
      ]
     },
     "execution_count": 24,
     "metadata": {},
     "output_type": "execute_result"
    }
   ],
   "source": [
    "# compare sales to user_score using pearson correlation and linear regression, getting r^2 value\n",
    "\n",
    "# Calculate average Critic rating for each game rated M\n",
    "\n",
    "avg_m_game_rating = m_rated_df.groupby('Name')['Critic_Score'].mean()\n",
    "\n",
    "merged_m_rated_df = pd.merg()"
   ]
  },
  {
   "cell_type": "code",
   "execution_count": null,
   "metadata": {},
   "outputs": [],
   "source": [
    "# categorical Enova. ex: stat difference between user score by genre. \n",
    "# difference in the means of user score by genre. \n",
    "# Do users rank genre higher than another? \n",
    "# users rate higher than another\n",
    "# Evnove on genre to average user. if pvalue is low, rject null and say there is stat propability that genre \n",
    "# reject the null or fail to reject the null. "
   ]
  },
  {
   "cell_type": "code",
   "execution_count": 29,
   "metadata": {},
   "outputs": [
    {
     "data": {
      "text/plain": [
       "Action          1630\n",
       "Sports           943\n",
       "Shooter          864\n",
       "Role-Playing     712\n",
       "Racing           581\n",
       "Platform         403\n",
       "Misc             384\n",
       "Fighting         378\n",
       "Simulation       297\n",
       "Strategy         267\n",
       "Adventure        248\n",
       "Puzzle           118\n",
       "Name: Genre, dtype: int64"
      ]
     },
     "execution_count": 29,
     "metadata": {},
     "output_type": "execute_result"
    }
   ],
   "source": [
    "genre_counts = cleaned_game_sales_df['Genre'].value_counts()\n",
    "genre_counts"
   ]
  },
  {
   "cell_type": "code",
   "execution_count": 16,
   "metadata": {},
   "outputs": [
    {
     "name": "stdout",
     "output_type": "stream",
     "text": [
      "Genre\n",
      "Action          19.965611\n",
      "Sports          15.545970\n",
      "Shooter         13.451990\n",
      "Platform        10.118975\n",
      "Misc             9.250628\n",
      "Racing           8.162185\n",
      "Role-Playing     7.513935\n",
      "Fighting         5.073343\n",
      "Simulation       4.138218\n",
      "Puzzle           2.790838\n",
      "Adventure        2.390849\n",
      "Strategy         1.557027\n",
      "Name: NA_Sales, dtype: float64\n"
     ]
    },
    {
     "data": {
      "image/png": "[encoded data removed]",
      "text/plain": [
       "<Figure size 640x480 with 1 Axes>"
      ]
     },
     "metadata": {},
     "output_type": "display_data"
    }
   ],
   "source": [
    "ttl_NA_sales = game_sales_df['NA_Sales'].sum()\n",
    "\n",
    "NA_genre_ttl_sales = game_sales_df.groupby('Genre')['NA_Sales'].sum()\n",
    "\n",
    "NA_Genre_pert = (NA_genre_ttl_sales/ttl_NA_sales)*100\n",
    "\n",
    "print(NA_Genre_pert.sort_values(ascending = False))\n",
    "\n",
    "NA_pert_sales_genre = NA_Genre_pert.sort_values(ascending = False)\n",
    "\n",
    "\n",
    "plt.bar(NA_pert_sales_genre.index, NA_pert_sales_genre.values, color = 'blue', alpha = 1, align = 'center')\n",
    "\n",
    "plt.xlabel('Genre') \n",
    "plt.ylabel('Percentage of Total Sales') \n",
    "plt.title('Percentage of Total North American Sales by Genre')\n",
    "plt.xticks(rotation=90)\n",
    "plt.show()"
   ]
  },
  {
   "cell_type": "code",
   "execution_count": 15,
   "metadata": {},
   "outputs": [
    {
     "name": "stdout",
     "output_type": "stream",
     "text": [
      "Genre\n",
      "Action          21.410336\n",
      "Sports          15.539847\n",
      "Shooter         13.087967\n",
      "Racing           9.754317\n",
      "Misc             8.773977\n",
      "Platform         8.262980\n",
      "Role-Playing     7.782915\n",
      "Simulation       4.681874\n",
      "Fighting         4.137883\n",
      "Adventure        2.620563\n",
      "Puzzle           2.062549\n",
      "Strategy         1.862934\n",
      "Name: EU_Sales, dtype: float64\n"
     ]
    },
    {
     "data": {
      "image/png": "[encoded data removed]",
      "text/plain": [
       "<Figure size 640x480 with 1 Axes>"
      ]
     },
     "metadata": {},
     "output_type": "display_data"
    }
   ],
   "source": [
    "ttl_EU_sales = game_sales_df['EU_Sales'].sum()\n",
    "\n",
    "EU_genre_ttl_sales = game_sales_df.groupby('Genre')['EU_Sales'].sum()\n",
    "\n",
    "EU_Genre_pert = (EU_genre_ttl_sales/ttl_EU_sales)*100\n",
    "\n",
    "print(EU_Genre_pert.sort_values(ascending = False))\n",
    "\n",
    "EU_pert_sales_genre = EU_Genre_pert.sort_values(ascending = False)\n",
    "\n",
    "plt.bar(EU_pert_sales_genre.index, EU_pert_sales_genre.values, color = 'red', alpha = 1, align = 'center')\n",
    "\n",
    "plt.xlabel('Genre') \n",
    "plt.ylabel('Percentage of Total Sales') \n",
    "plt.title('Percentage of Total EU Sales by Genre')\n",
    "plt.xticks(rotation=90)\n",
    "plt.show()"
   ]
  },
  {
   "cell_type": "code",
   "execution_count": 14,
   "metadata": {},
   "outputs": [
    {
     "name": "stdout",
     "output_type": "stream",
     "text": [
      "Genre\n",
      "Role-Playing    27.397239\n",
      "Action          12.443061\n",
      "Sports          10.446806\n",
      "Platform        10.083781\n",
      "Misc             8.332627\n",
      "Fighting         6.742560\n",
      "Simulation       4.917414\n",
      "Puzzle           4.417194\n",
      "Racing           4.370949\n",
      "Adventure        4.031046\n",
      "Strategy         3.827567\n",
      "Shooter          2.987444\n",
      "Name: JP_Sales, dtype: float64\n"
     ]
    },
    {
     "data": {
      "image/png": "[encoded data removed]",
      "text/plain": [
       "<Figure size 640x480 with 1 Axes>"
      ]
     },
     "metadata": {},
     "output_type": "display_data"
    }
   ],
   "source": [
    "ttl_JP_sales = game_sales_df['JP_Sales'].sum()\n",
    "\n",
    "JP_genre_ttl_sales = game_sales_df.groupby('Genre')['JP_Sales'].sum()\n",
    "\n",
    "JP_Genre_pert = (JP_genre_ttl_sales/ttl_JP_sales)*100\n",
    "\n",
    "print(JP_Genre_pert.sort_values(ascending = False))\n",
    "\n",
    "\n",
    "JP_pert_sales_genre = JP_Genre_pert.sort_values(ascending = False)\n",
    "\n",
    "\n",
    "plt.bar(JP_pert_sales_genre.index, JP_pert_sales_genre.values, color = 'blue', alpha = 1, align = 'center')\n",
    "\n",
    "plt.xlabel('Genre') \n",
    "plt.ylabel('Percentage of Total Sales') \n",
    "plt.title('Percentage of Total Japanese Sales by Genre')\n",
    "plt.xticks(rotation=90)\n",
    "plt.show()"
   ]
  },
  {
   "cell_type": "code",
   "execution_count": 12,
   "metadata": {},
   "outputs": [
    {
     "data": {
      "text/html": [
       "<div>\n",
       "<style scoped>\n",
       "    .dataframe tbody tr th:only-of-type {\n",
       "        vertical-align: middle;\n",
       "    }\n",
       "\n",
       "    .dataframe tbody tr th {\n",
       "        vertical-align: top;\n",
       "    }\n",
       "\n",
       "    .dataframe thead th {\n",
       "        text-align: right;\n",
       "    }\n",
       "</style>\n",
       "<table border=\"1\" class=\"dataframe\">\n",
       "  <thead>\n",
       "    <tr style=\"text-align: right;\">\n",
       "      <th></th>\n",
       "      <th>NA_Genre_%_sales</th>\n",
       "      <th>EU_Genre_%_sales</th>\n",
       "      <th>JP_Genre_%_sales</th>\n",
       "    </tr>\n",
       "    <tr>\n",
       "      <th>Genre</th>\n",
       "      <th></th>\n",
       "      <th></th>\n",
       "      <th></th>\n",
       "    </tr>\n",
       "  </thead>\n",
       "  <tbody>\n",
       "    <tr>\n",
       "      <th>Action</th>\n",
       "      <td>19.965611</td>\n",
       "      <td>21.410336</td>\n",
       "      <td>12.443061</td>\n",
       "    </tr>\n",
       "    <tr>\n",
       "      <th>Adventure</th>\n",
       "      <td>2.390849</td>\n",
       "      <td>2.620563</td>\n",
       "      <td>4.031046</td>\n",
       "    </tr>\n",
       "    <tr>\n",
       "      <th>Fighting</th>\n",
       "      <td>5.073343</td>\n",
       "      <td>4.137883</td>\n",
       "      <td>6.742560</td>\n",
       "    </tr>\n",
       "    <tr>\n",
       "      <th>Misc</th>\n",
       "      <td>9.250628</td>\n",
       "      <td>8.773977</td>\n",
       "      <td>8.332627</td>\n",
       "    </tr>\n",
       "    <tr>\n",
       "      <th>Platform</th>\n",
       "      <td>10.118975</td>\n",
       "      <td>8.262980</td>\n",
       "      <td>10.083781</td>\n",
       "    </tr>\n",
       "    <tr>\n",
       "      <th>Puzzle</th>\n",
       "      <td>2.790838</td>\n",
       "      <td>2.062549</td>\n",
       "      <td>4.417194</td>\n",
       "    </tr>\n",
       "    <tr>\n",
       "      <th>Racing</th>\n",
       "      <td>8.162185</td>\n",
       "      <td>9.754317</td>\n",
       "      <td>4.370949</td>\n",
       "    </tr>\n",
       "    <tr>\n",
       "      <th>Role-Playing</th>\n",
       "      <td>7.513935</td>\n",
       "      <td>7.782915</td>\n",
       "      <td>27.397239</td>\n",
       "    </tr>\n",
       "    <tr>\n",
       "      <th>Shooter</th>\n",
       "      <td>13.451990</td>\n",
       "      <td>13.087967</td>\n",
       "      <td>2.987444</td>\n",
       "    </tr>\n",
       "    <tr>\n",
       "      <th>Simulation</th>\n",
       "      <td>4.138218</td>\n",
       "      <td>4.681874</td>\n",
       "      <td>4.917414</td>\n",
       "    </tr>\n",
       "    <tr>\n",
       "      <th>Sports</th>\n",
       "      <td>15.545970</td>\n",
       "      <td>15.539847</td>\n",
       "      <td>10.446806</td>\n",
       "    </tr>\n",
       "    <tr>\n",
       "      <th>Strategy</th>\n",
       "      <td>1.557027</td>\n",
       "      <td>1.862934</td>\n",
       "      <td>3.827567</td>\n",
       "    </tr>\n",
       "  </tbody>\n",
       "</table>\n",
       "</div>"
      ],
      "text/plain": [
       "              NA_Genre_%_sales  EU_Genre_%_sales  JP_Genre_%_sales\n",
       "Genre                                                             \n",
       "Action               19.965611         21.410336         12.443061\n",
       "Adventure             2.390849          2.620563          4.031046\n",
       "Fighting              5.073343          4.137883          6.742560\n",
       "Misc                  9.250628          8.773977          8.332627\n",
       "Platform             10.118975          8.262980         10.083781\n",
       "Puzzle                2.790838          2.062549          4.417194\n",
       "Racing                8.162185          9.754317          4.370949\n",
       "Role-Playing          7.513935          7.782915         27.397239\n",
       "Shooter              13.451990         13.087967          2.987444\n",
       "Simulation            4.138218          4.681874          4.917414\n",
       "Sports               15.545970         15.539847         10.446806\n",
       "Strategy              1.557027          1.862934          3.827567"
      ]
     },
     "execution_count": 12,
     "metadata": {},
     "output_type": "execute_result"
    }
   ],
   "source": [
    "Genre_salespercentage_df= pd.DataFrame({'NA_Genre_%_sales': NA_Genre_pert,\n",
    "              'EU_Genre_%_sales': EU_Genre_pert,\n",
    "              'JP_Genre_%_sales':JP_Genre_pert})\n",
    "\n",
    "Genre_salespercentage_df"
   ]
  },
  {
   "cell_type": "code",
   "execution_count": 13,
   "metadata": {},
   "outputs": [
    {
     "data": {
      "image/png": "[encoded data removed]",
      "text/plain": [
       "<Figure size 2900x1500 with 4 Axes>"
      ]
     },
     "metadata": {},
     "output_type": "display_data"
    }
   ],
   "source": [
    "fig, axs = plt.subplots(2, 2, figsize=(29, 15))\n",
    "\n",
    "axs[0, 0].bar(NA_pert_sales_genre.index, NA_pert_sales_genre.values, color = 'blue', alpha = 1)\n",
    "axs[0, 0].set_title('North America')\n",
    "\n",
    "axs[0, 1].bar(EU_pert_sales_genre.index, EU_pert_sales_genre.values, color = 'red', alpha = 1)\n",
    "axs[0, 1].set_title('Europe')\n",
    "\n",
    "axs[1, 0].bar(JP_pert_sales_genre.index, JP_pert_sales_genre.values, color = 'green', alpha = 1)\n",
    "axs[1, 0].set_title('Japan')\n",
    "\n",
    "\n",
    "\n",
    "for ax in axs.flat:\n",
    "    ax.set(xlabel='Genre', ylabel='Percentage of Total Sales')\n",
    "\n",
    "#for ax in axs.flat:\n",
    "    #ax.label_outer()\n",
    "\n",
    "ax.tick_params(axis='x', rotation=45)    \n",
    "    \n",
    "plt.show()"
   ]
  },
  {
   "cell_type": "code",
   "execution_count": 99,
   "metadata": {},
   "outputs": [
    {
     "data": {
      "text/plain": [
       "dtype('float64')"
      ]
     },
     "execution_count": 99,
     "metadata": {},
     "output_type": "execute_result"
    }
   ],
   "source": [
    "Yr = game_sales_df['Year_of_Release'].value_counts()\n",
    "\n",
    "game_sales_df['Year_of_Release'].dtypes\n"
   ]
  }
 ],
 "metadata": {
  "kernelspec": {
   "display_name": "Python 3 (ipykernel)",
   "language": "python",
   "name": "python3"
  },
  "language_info": {
   "codemirror_mode": {
    "name": "ipython",
    "version": 3
   },
   "file_extension": ".py",
   "mimetype": "text/x-python",
   "name": "python",
   "nbconvert_exporter": "python",
   "pygments_lexer": "ipython3",
   "version": "3.10.11"
  }
 },
 "nbformat": 4,
 "nbformat_minor": 2
}
